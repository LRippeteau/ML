{
 "cells": [
  {
   "cell_type": "code",
   "execution_count": 2,
   "metadata": {},
   "outputs": [
    {
     "name": "stdout",
     "output_type": "stream",
     "text": [
      "Predicted class for the new sample point: 0\n"
     ]
    }
   ],
   "source": [
    "import numpy as np\n",
    "\n",
    "def euclidean_distance(point1, point2):\n",
    "    return np.sqrt(np.sum((point1 - point2)**2))\n",
    "\n",
    "dataset = {\n",
    "    'data': np.array([\n",
    "        [2, 3],\n",
    "        [4, 2],\n",
    "        [1, 3],\n",
    "        [3, 4],\n",
    "        [2, 2]\n",
    "    ]),\n",
    "    'labels': np.array([0, 0, 1, 1, 0])\n",
    "}\n",
    "\n",
    "new_point = np.array([2.5, 3.5])\n",
    "\n",
    "# Calculate distances between the new point and all points in the dataset\n",
    "distances = [euclidean_distance(new_point, point) for point in dataset['data']]\n",
    "\n",
    "# Combine distances with labels and sort based on distances\n",
    "sorted_distances_with_labels = sorted(zip(distances, dataset['labels']))\n",
    "\n",
    "# Get the top k = 3 nearest neighbors\n",
    "k=3\n",
    "top_k_nearest = sorted_distances_with_labels[:k]\n",
    "\n",
    "# Predict the class label based on the majority class among the top k nearest neighbors\n",
    "predicted_class = max(set(l for _, l in top_k_nearest), key=[l for _, l in top_k_nearest].count)\n",
    "\n",
    "print(\"Predicted class for the new sample point:\", predicted_class)"
   ]
  }
 ],
 "metadata": {
  "kernelspec": {
   "display_name": "Python 3",
   "language": "python",
   "name": "python3"
  },
  "language_info": {
   "codemirror_mode": {
    "name": "ipython",
    "version": 3
   },
   "file_extension": ".py",
   "mimetype": "text/x-python",
   "name": "python",
   "nbconvert_exporter": "python",
   "pygments_lexer": "ipython3",
   "version": "3.11.8"
  }
 },
 "nbformat": 4,
 "nbformat_minor": 2
}
