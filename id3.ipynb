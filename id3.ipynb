{
 "cells": [
  {
   "cell_type": "code",
   "execution_count": 1,
   "metadata": {},
   "outputs": [],
   "source": [
    "import pandas as pd\n",
    "import math\n",
    "\n",
    "CLASSES = 2 # min of binary classification"
   ]
  },
  {
   "cell_type": "code",
   "execution_count": 2,
   "metadata": {},
   "outputs": [],
   "source": [
    "def get_entropy(data,c_label): # pass data and class label name\n",
    "    total = len(data[c_label]) # total number of samples\n",
    "    entropy = 0 # set up entropy to sum up each labels probability\n",
    "    labels = data[c_label].unique()\n",
    "    for l in labels: # iterate over labels\n",
    "        count = data[c_label].isin([l]).sum(axis=0)\n",
    "        entropy += (-count/total) * math.log((count/total),CLASSES)\n",
    "    return entropy"
   ]
  },
  {
   "cell_type": "code",
   "execution_count": 3,
   "metadata": {},
   "outputs": [],
   "source": [
    "def get_information_gain(data,f_label,c_label): # pass data, feature label, and class label name\n",
    "     total = len(data[f_label]) # total number of samples\n",
    "     gain = get_entropy(data,c_label) # setup gain as current entropy\n",
    "     values = data[f_label].unique()\n",
    "     for v in values: # iterate over feature values\n",
    "        count = data[f_label].isin([v]).sum(axis=0)\n",
    "        gain -= count/total * get_entropy(data[data[f_label].isin([v])],c_label)\n",
    "     return gain\n",
    "    \n",
    "    \n",
    "    # info_gain = get_entropy(data, c_label)\n",
    "    # for f in f_label:\n",
    "    #     info_gain -= (f/c_label)*get_entropy(data,f)"
   ]
  },
  {
   "cell_type": "code",
   "execution_count": 4,
   "metadata": {},
   "outputs": [],
   "source": [
    "def build_tree(data,features,c_label,T):\n",
    "    if len(data) == 0 or len(features) == 0:\n",
    "        return None # end condition: no data or features left to check on this branch!\n",
    "\n",
    "    info_gain = {}\n",
    "    for f in features: # iterate over features\n",
    "        info_gain[f] = get_information_gain(data,f,c_label)\n",
    "\n",
    "    if max(info_gain.values()) == 0:\n",
    "        return None # end condition: nothing more to learn!\n",
    "\n",
    "    pick = max(info_gain, key=info_gain.get) # argmax\n",
    "    branches = {}\n",
    "    for v in data[pick].unique():\n",
    "        branches[v] = {}\n",
    "        node = build_tree(data[data[pick].isin([v])],features,c_label,branches[v])\n",
    "    T[pick] = branches\n",
    "    return pick"
   ]
  },
  {
   "cell_type": "code",
   "execution_count": 5,
   "metadata": {},
   "outputs": [],
   "source": [
    "# this function courtesy of ChatGPT:\n",
    "def print_tree(tree, indent=''):\n",
    "    if not tree:\n",
    "        return\n",
    "    if isinstance(tree, dict):\n",
    "        for key, subtree in tree.items():\n",
    "            print(indent + str(key))\n",
    "            print_tree(subtree, indent + '  ')\n",
    "    else:\n",
    "        print(indent + str(tree))"
   ]
  },
  {
   "cell_type": "code",
   "execution_count": 6,
   "metadata": {},
   "outputs": [
    {
     "name": "stdout",
     "output_type": "stream",
     "text": [
      "Outlook\n",
      "  Sunny\n",
      "    Humidity\n",
      "      High\n",
      "      Normal\n",
      "  Overcast\n",
      "  Rain\n",
      "    Wind\n",
      "      Weak\n",
      "      Strong\n"
     ]
    }
   ],
   "source": [
    "df = pd.read_csv('golf.csv')\n",
    "c_label = 'Play Golf'\n",
    "CLASSES = len(df[c_label].unique())\n",
    "\n",
    "features = df.columns.values.tolist()\n",
    "features.remove(c_label)\n",
    "\n",
    "T = {}\n",
    "build_tree(df,features,c_label,T)\n",
    "print_tree(T)"
   ]
  }
 ],
 "metadata": {
  "kernelspec": {
   "display_name": "Python 3",
   "language": "python",
   "name": "python3"
  },
  "language_info": {
   "codemirror_mode": {
    "name": "ipython",
    "version": 3
   },
   "file_extension": ".py",
   "mimetype": "text/x-python",
   "name": "python",
   "nbconvert_exporter": "python",
   "pygments_lexer": "ipython3",
   "version": "3.11.7"
  }
 },
 "nbformat": 4,
 "nbformat_minor": 2
}
